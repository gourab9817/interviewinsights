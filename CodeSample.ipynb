{
  "nbformat": 4,
  "nbformat_minor": 0,
  "metadata": {
    "colab": {
      "provenance": [],
      "authorship_tag": "ABX9TyPW2+/Acqc0kcTeTQylCUZ/",
      "include_colab_link": true
    },
    "kernelspec": {
      "name": "python3",
      "display_name": "Python 3"
    },
    "language_info": {
      "name": "python"
    }
  },
  "cells": [
    {
      "cell_type": "markdown",
      "metadata": {
        "id": "view-in-github",
        "colab_type": "text"
      },
      "source": [
        "<a href=\"https://colab.research.google.com/github/RudrikaSingh/interviewinsights/blob/main/CodeSample.ipynb\" target=\"_parent\"><img src=\"https://colab.research.google.com/assets/colab-badge.svg\" alt=\"Open In Colab\"/></a>"
      ]
    },
    {
      "cell_type": "code",
      "source": [
        "!pip install deepface"
      ],
      "metadata": {
        "colab": {
          "base_uri": "https://localhost:8080/"
        },
        "id": "vu2_IYEp1lrG",
        "outputId": "b24e5362-d6c6-4fe1-f1de-c83c32222a8c"
      },
      "execution_count": null,
      "outputs": [
        {
          "output_type": "stream",
          "name": "stdout",
          "text": [
            "Collecting deepface\n",
            "  Downloading deepface-0.0.93-py3-none-any.whl.metadata (30 kB)\n",
            "Requirement already satisfied: requests>=2.27.1 in /usr/local/lib/python3.11/dist-packages (from deepface) (2.32.3)\n",
            "Requirement already satisfied: numpy>=1.14.0 in /usr/local/lib/python3.11/dist-packages (from deepface) (1.26.4)\n",
            "Requirement already satisfied: pandas>=0.23.4 in /usr/local/lib/python3.11/dist-packages (from deepface) (2.2.2)\n",
            "Requirement already satisfied: gdown>=3.10.1 in /usr/local/lib/python3.11/dist-packages (from deepface) (5.2.0)\n",
            "Requirement already satisfied: tqdm>=4.30.0 in /usr/local/lib/python3.11/dist-packages (from deepface) (4.67.1)\n",
            "Requirement already satisfied: Pillow>=5.2.0 in /usr/local/lib/python3.11/dist-packages (from deepface) (11.1.0)\n",
            "Requirement already satisfied: opencv-python>=4.5.5.64 in /usr/local/lib/python3.11/dist-packages (from deepface) (4.11.0.86)\n",
            "Requirement already satisfied: tensorflow>=1.9.0 in /usr/local/lib/python3.11/dist-packages (from deepface) (2.18.0)\n",
            "Requirement already satisfied: keras>=2.2.0 in /usr/local/lib/python3.11/dist-packages (from deepface) (3.8.0)\n",
            "Requirement already satisfied: Flask>=1.1.2 in /usr/local/lib/python3.11/dist-packages (from deepface) (3.1.0)\n",
            "Collecting flask-cors>=4.0.1 (from deepface)\n",
            "  Downloading Flask_Cors-5.0.0-py2.py3-none-any.whl.metadata (5.5 kB)\n",
            "Collecting mtcnn>=0.1.0 (from deepface)\n",
            "  Downloading mtcnn-1.0.0-py3-none-any.whl.metadata (5.8 kB)\n",
            "Collecting retina-face>=0.0.1 (from deepface)\n",
            "  Downloading retina_face-0.0.17-py3-none-any.whl.metadata (10 kB)\n",
            "Collecting fire>=0.4.0 (from deepface)\n",
            "  Downloading fire-0.7.0.tar.gz (87 kB)\n",
            "\u001b[2K     \u001b[90m━━━━━━━━━━━━━━━━━━━━━━━━━━━━━━━━━━━━━━━━\u001b[0m \u001b[32m87.2/87.2 kB\u001b[0m \u001b[31m4.1 MB/s\u001b[0m eta \u001b[36m0:00:00\u001b[0m\n",
            "\u001b[?25h  Preparing metadata (setup.py) ... \u001b[?25l\u001b[?25hdone\n",
            "Collecting gunicorn>=20.1.0 (from deepface)\n",
            "  Downloading gunicorn-23.0.0-py3-none-any.whl.metadata (4.4 kB)\n",
            "Requirement already satisfied: termcolor in /usr/local/lib/python3.11/dist-packages (from fire>=0.4.0->deepface) (2.5.0)\n",
            "Requirement already satisfied: Werkzeug>=3.1 in /usr/local/lib/python3.11/dist-packages (from Flask>=1.1.2->deepface) (3.1.3)\n",
            "Requirement already satisfied: Jinja2>=3.1.2 in /usr/local/lib/python3.11/dist-packages (from Flask>=1.1.2->deepface) (3.1.5)\n",
            "Requirement already satisfied: itsdangerous>=2.2 in /usr/local/lib/python3.11/dist-packages (from Flask>=1.1.2->deepface) (2.2.0)\n",
            "Requirement already satisfied: click>=8.1.3 in /usr/local/lib/python3.11/dist-packages (from Flask>=1.1.2->deepface) (8.1.8)\n",
            "Requirement already satisfied: blinker>=1.9 in /usr/local/lib/python3.11/dist-packages (from Flask>=1.1.2->deepface) (1.9.0)\n",
            "Requirement already satisfied: beautifulsoup4 in /usr/local/lib/python3.11/dist-packages (from gdown>=3.10.1->deepface) (4.13.3)\n",
            "Requirement already satisfied: filelock in /usr/local/lib/python3.11/dist-packages (from gdown>=3.10.1->deepface) (3.17.0)\n",
            "Requirement already satisfied: packaging in /usr/local/lib/python3.11/dist-packages (from gunicorn>=20.1.0->deepface) (24.2)\n",
            "Requirement already satisfied: absl-py in /usr/local/lib/python3.11/dist-packages (from keras>=2.2.0->deepface) (1.4.0)\n",
            "Requirement already satisfied: rich in /usr/local/lib/python3.11/dist-packages (from keras>=2.2.0->deepface) (13.9.4)\n",
            "Requirement already satisfied: namex in /usr/local/lib/python3.11/dist-packages (from keras>=2.2.0->deepface) (0.0.8)\n",
            "Requirement already satisfied: h5py in /usr/local/lib/python3.11/dist-packages (from keras>=2.2.0->deepface) (3.12.1)\n",
            "Requirement already satisfied: optree in /usr/local/lib/python3.11/dist-packages (from keras>=2.2.0->deepface) (0.14.0)\n",
            "Requirement already satisfied: ml-dtypes in /usr/local/lib/python3.11/dist-packages (from keras>=2.2.0->deepface) (0.4.1)\n",
            "Requirement already satisfied: joblib>=1.4.2 in /usr/local/lib/python3.11/dist-packages (from mtcnn>=0.1.0->deepface) (1.4.2)\n",
            "Collecting lz4>=4.3.3 (from mtcnn>=0.1.0->deepface)\n",
            "  Downloading lz4-4.4.3-cp311-cp311-manylinux_2_17_x86_64.manylinux2014_x86_64.whl.metadata (3.8 kB)\n",
            "Requirement already satisfied: python-dateutil>=2.8.2 in /usr/local/lib/python3.11/dist-packages (from pandas>=0.23.4->deepface) (2.8.2)\n",
            "Requirement already satisfied: pytz>=2020.1 in /usr/local/lib/python3.11/dist-packages (from pandas>=0.23.4->deepface) (2025.1)\n",
            "Requirement already satisfied: tzdata>=2022.7 in /usr/local/lib/python3.11/dist-packages (from pandas>=0.23.4->deepface) (2025.1)\n",
            "Requirement already satisfied: charset-normalizer<4,>=2 in /usr/local/lib/python3.11/dist-packages (from requests>=2.27.1->deepface) (3.4.1)\n",
            "Requirement already satisfied: idna<4,>=2.5 in /usr/local/lib/python3.11/dist-packages (from requests>=2.27.1->deepface) (3.10)\n",
            "Requirement already satisfied: urllib3<3,>=1.21.1 in /usr/local/lib/python3.11/dist-packages (from requests>=2.27.1->deepface) (2.3.0)\n",
            "Requirement already satisfied: certifi>=2017.4.17 in /usr/local/lib/python3.11/dist-packages (from requests>=2.27.1->deepface) (2025.1.31)\n",
            "Requirement already satisfied: astunparse>=1.6.0 in /usr/local/lib/python3.11/dist-packages (from tensorflow>=1.9.0->deepface) (1.6.3)\n",
            "Requirement already satisfied: flatbuffers>=24.3.25 in /usr/local/lib/python3.11/dist-packages (from tensorflow>=1.9.0->deepface) (25.1.24)\n",
            "Requirement already satisfied: gast!=0.5.0,!=0.5.1,!=0.5.2,>=0.2.1 in /usr/local/lib/python3.11/dist-packages (from tensorflow>=1.9.0->deepface) (0.6.0)\n",
            "Requirement already satisfied: google-pasta>=0.1.1 in /usr/local/lib/python3.11/dist-packages (from tensorflow>=1.9.0->deepface) (0.2.0)\n",
            "Requirement already satisfied: libclang>=13.0.0 in /usr/local/lib/python3.11/dist-packages (from tensorflow>=1.9.0->deepface) (18.1.1)\n",
            "Requirement already satisfied: opt-einsum>=2.3.2 in /usr/local/lib/python3.11/dist-packages (from tensorflow>=1.9.0->deepface) (3.4.0)\n",
            "Requirement already satisfied: protobuf!=4.21.0,!=4.21.1,!=4.21.2,!=4.21.3,!=4.21.4,!=4.21.5,<6.0.0dev,>=3.20.3 in /usr/local/lib/python3.11/dist-packages (from tensorflow>=1.9.0->deepface) (4.25.6)\n",
            "Requirement already satisfied: setuptools in /usr/local/lib/python3.11/dist-packages (from tensorflow>=1.9.0->deepface) (75.1.0)\n",
            "Requirement already satisfied: six>=1.12.0 in /usr/local/lib/python3.11/dist-packages (from tensorflow>=1.9.0->deepface) (1.17.0)\n",
            "Requirement already satisfied: typing-extensions>=3.6.6 in /usr/local/lib/python3.11/dist-packages (from tensorflow>=1.9.0->deepface) (4.12.2)\n",
            "Requirement already satisfied: wrapt>=1.11.0 in /usr/local/lib/python3.11/dist-packages (from tensorflow>=1.9.0->deepface) (1.17.2)\n",
            "Requirement already satisfied: grpcio<2.0,>=1.24.3 in /usr/local/lib/python3.11/dist-packages (from tensorflow>=1.9.0->deepface) (1.70.0)\n",
            "Requirement already satisfied: tensorboard<2.19,>=2.18 in /usr/local/lib/python3.11/dist-packages (from tensorflow>=1.9.0->deepface) (2.18.0)\n",
            "Requirement already satisfied: tensorflow-io-gcs-filesystem>=0.23.1 in /usr/local/lib/python3.11/dist-packages (from tensorflow>=1.9.0->deepface) (0.37.1)\n",
            "Requirement already satisfied: wheel<1.0,>=0.23.0 in /usr/local/lib/python3.11/dist-packages (from astunparse>=1.6.0->tensorflow>=1.9.0->deepface) (0.45.1)\n",
            "Requirement already satisfied: MarkupSafe>=2.0 in /usr/local/lib/python3.11/dist-packages (from Jinja2>=3.1.2->Flask>=1.1.2->deepface) (3.0.2)\n",
            "Requirement already satisfied: markdown>=2.6.8 in /usr/local/lib/python3.11/dist-packages (from tensorboard<2.19,>=2.18->tensorflow>=1.9.0->deepface) (3.7)\n",
            "Requirement already satisfied: tensorboard-data-server<0.8.0,>=0.7.0 in /usr/local/lib/python3.11/dist-packages (from tensorboard<2.19,>=2.18->tensorflow>=1.9.0->deepface) (0.7.2)\n",
            "Requirement already satisfied: soupsieve>1.2 in /usr/local/lib/python3.11/dist-packages (from beautifulsoup4->gdown>=3.10.1->deepface) (2.6)\n",
            "Requirement already satisfied: PySocks!=1.5.7,>=1.5.6 in /usr/local/lib/python3.11/dist-packages (from requests[socks]->gdown>=3.10.1->deepface) (1.7.1)\n",
            "Requirement already satisfied: markdown-it-py>=2.2.0 in /usr/local/lib/python3.11/dist-packages (from rich->keras>=2.2.0->deepface) (3.0.0)\n",
            "Requirement already satisfied: pygments<3.0.0,>=2.13.0 in /usr/local/lib/python3.11/dist-packages (from rich->keras>=2.2.0->deepface) (2.18.0)\n",
            "Requirement already satisfied: mdurl~=0.1 in /usr/local/lib/python3.11/dist-packages (from markdown-it-py>=2.2.0->rich->keras>=2.2.0->deepface) (0.1.2)\n",
            "Downloading deepface-0.0.93-py3-none-any.whl (108 kB)\n",
            "\u001b[2K   \u001b[90m━━━━━━━━━━━━━━━━━━━━━━━━━━━━━━━━━━━━━━━━\u001b[0m \u001b[32m108.6/108.6 kB\u001b[0m \u001b[31m8.4 MB/s\u001b[0m eta \u001b[36m0:00:00\u001b[0m\n",
            "\u001b[?25hDownloading Flask_Cors-5.0.0-py2.py3-none-any.whl (14 kB)\n",
            "Downloading gunicorn-23.0.0-py3-none-any.whl (85 kB)\n",
            "\u001b[2K   \u001b[90m━━━━━━━━━━━━━━━━━━━━━━━━━━━━━━━━━━━━━━━━\u001b[0m \u001b[32m85.0/85.0 kB\u001b[0m \u001b[31m6.7 MB/s\u001b[0m eta \u001b[36m0:00:00\u001b[0m\n",
            "\u001b[?25hDownloading mtcnn-1.0.0-py3-none-any.whl (1.9 MB)\n",
            "\u001b[2K   \u001b[90m━━━━━━━━━━━━━━━━━━━━━━━━━━━━━━━━━━━━━━━━\u001b[0m \u001b[32m1.9/1.9 MB\u001b[0m \u001b[31m35.1 MB/s\u001b[0m eta \u001b[36m0:00:00\u001b[0m\n",
            "\u001b[?25hDownloading retina_face-0.0.17-py3-none-any.whl (25 kB)\n",
            "Downloading lz4-4.4.3-cp311-cp311-manylinux_2_17_x86_64.manylinux2014_x86_64.whl (1.3 MB)\n",
            "\u001b[2K   \u001b[90m━━━━━━━━━━━━━━━━━━━━━━━━━━━━━━━━━━━━━━━━\u001b[0m \u001b[32m1.3/1.3 MB\u001b[0m \u001b[31m57.8 MB/s\u001b[0m eta \u001b[36m0:00:00\u001b[0m\n",
            "\u001b[?25hBuilding wheels for collected packages: fire\n",
            "  Building wheel for fire (setup.py) ... \u001b[?25l\u001b[?25hdone\n",
            "  Created wheel for fire: filename=fire-0.7.0-py3-none-any.whl size=114249 sha256=5b665193d2d7d033041e6061408ee429ea8db51af05a5f1123d76952f2bd04d0\n",
            "  Stored in directory: /root/.cache/pip/wheels/46/54/24/1624fd5b8674eb1188623f7e8e17cdf7c0f6c24b609dfb8a89\n",
            "Successfully built fire\n",
            "Installing collected packages: lz4, gunicorn, fire, mtcnn, flask-cors, retina-face, deepface\n",
            "Successfully installed deepface-0.0.93 fire-0.7.0 flask-cors-5.0.0 gunicorn-23.0.0 lz4-4.4.3 mtcnn-1.0.0 retina-face-0.0.17\n"
          ]
        }
      ]
    },
    {
      "cell_type": "code",
      "source": [
        "import cv2  # OpenCV for video processing\n",
        "import librosa #For audio processing\n",
        "import librosa.display\n",
        "import soundfile as sf  # For reading audio files\n",
        "import numpy as np\n",
        "\n",
        "def get_video_frame(video_path):\n",
        "    \"\"\"Extracts a frame from a video.\"\"\"\n",
        "    cap = cv2.VideoCapture(video_path)\n",
        "    if not cap.isOpened():\n",
        "        raise ValueError(f\"Could not open video: {video_path}\")\n",
        "\n",
        "    ret, frame = cap.read()\n",
        "    cap.release()\n",
        "    if not ret:\n",
        "        raise ValueError(\"Could not read frame from video.\")\n",
        "    return frame\n",
        "\n",
        "\n",
        "def read_audio(audio_path):\n",
        "  \"\"\"Reads an audio file.\"\"\"\n",
        "  try:\n",
        "    audio, sr = librosa.load(audio_path) #sr is sample rate\n",
        "    return audio, sr\n",
        "  except Exception as e:\n",
        "    raise ValueError(f\"Could not read audio file: {audio_path} - {e}\")\n",
        "\n",
        "\n",
        "\n",
        "# Example usage\n",
        "#video_frame = get_video_frame(\"path/to/your/video.mp4\")\n",
        "#audio, sample_rate = read_audio(\"path/to/your/audio.wav\")"
      ],
      "metadata": {
        "id": "ocaBayMt1OCp"
      },
      "execution_count": null,
      "outputs": []
    },
    {
      "cell_type": "code",
      "source": [
        "from deepface import DeepFace\n",
        "\n",
        "def analyze_facial_expression(image):\n",
        "    \"\"\"Analyzes facial expression using DeepFace.\"\"\"\n",
        "    try:\n",
        "        analysis = DeepFace.analyze(img_path = image, actions = ['emotion'], enforce_detection=False) #enforce_detection=False allows for analysis even if no face is detected\n",
        "        dominant_emotion = analysis[0]['dominant_emotion']  # Access the dominant emotion\n",
        "        return dominant_emotion, analysis[0]['emotion']  # Return dominant and all emotions\n",
        "    except Exception as e:\n",
        "        print(f\"Error analyzing facial expression: {e}\")\n",
        "        return None, None\n",
        "\n",
        "# Example usage:\n",
        "#dominant_emotion, all_emotions = analyze_facial_expression(video_frame)"
      ],
      "metadata": {
        "colab": {
          "base_uri": "https://localhost:8080/"
        },
        "id": "9WZOPBIN1RgT",
        "outputId": "5dc35c9b-f585-4849-9748-4d41399c8c62"
      },
      "execution_count": null,
      "outputs": [
        {
          "output_type": "stream",
          "name": "stdout",
          "text": [
            "25-02-08 13:54:07 - Directory /root/.deepface has been created\n",
            "25-02-08 13:54:07 - Directory /root/.deepface/weights has been created\n"
          ]
        }
      ]
    },
    {
      "cell_type": "code",
      "source": [
        "import librosa\n",
        "import numpy as np\n",
        "from sklearn.model_selection import train_test_split\n",
        "from sklearn.svm import SVC\n",
        "from sklearn.metrics import accuracy_score\n",
        "\n",
        "def extract_audio_features(audio, sample_rate):\n",
        "    \"\"\"Extracts MFCCs from audio.\"\"\"\n",
        "    mfccs = librosa.feature.mfcc(y=audio, sr=sample_rate, n_mfcc=40)  # Adjust n_mfcc as needed\n",
        "    return np.mean(mfccs.T, axis=0) #Averages over time\n",
        "\n",
        "\n",
        "def train_audio_classifier(feature_vectors, labels): #You must create labeled data\n",
        "    \"\"\"Trains an SVM classifier for audio emotion.\"\"\"\n",
        "    X_train, X_test, y_train, y_test = train_test_split(feature_vectors, labels, test_size=0.2, random_state=42)  #Split data for train/test\n",
        "\n",
        "    model = SVC(kernel='linear', probability=True) #SVM classifier with probability estimates\n",
        "    model.fit(X_train, y_train)\n",
        "\n",
        "    y_pred = model.predict(X_test)\n",
        "    accuracy = accuracy_score(y_test, y_pred)\n",
        "    print(f\"Audio classifier accuracy: {accuracy}\")\n",
        "\n",
        "    return model #Return trained model for later predictions\n",
        "\n",
        "def analyze_voice_tone(audio, sample_rate, model): #Requires trained model\n",
        "    \"\"\"Analyzes voice tone using extracted features and a trained classifier.\"\"\"\n",
        "    features = extract_audio_features(audio, sample_rate)\n",
        "    features = features.reshape(1, -1)  # Reshape for single sample prediction\n",
        "    predicted_emotion = model.predict(features)[0]\n",
        "    probabilities = model.predict_proba(features)[0]  # Get probabilities for each class\n",
        "    return predicted_emotion, probabilities\n",
        "\n",
        "# Example Usage (after training):\n",
        "#audio_emotion, probabilities = analyze_voice_tone(audio, sample_rate, audio_model)"
      ],
      "metadata": {
        "id": "3iXoBs-C1rZ8"
      },
      "execution_count": null,
      "outputs": []
    },
    {
      "cell_type": "code",
      "source": [
        "!pip install SpeechRecognition\n"
      ],
      "metadata": {
        "colab": {
          "base_uri": "https://localhost:8080/"
        },
        "id": "OkXLYBWk160j",
        "outputId": "37015e3d-1dc8-4e7c-8fd4-8bb27e5c0897"
      },
      "execution_count": null,
      "outputs": [
        {
          "output_type": "stream",
          "name": "stdout",
          "text": [
            "Collecting SpeechRecognition\n",
            "  Downloading SpeechRecognition-3.14.1-py3-none-any.whl.metadata (31 kB)\n",
            "Requirement already satisfied: typing-extensions in /usr/local/lib/python3.11/dist-packages (from SpeechRecognition) (4.12.2)\n",
            "Downloading SpeechRecognition-3.14.1-py3-none-any.whl (32.9 MB)\n",
            "\u001b[2K   \u001b[90m━━━━━━━━━━━━━━━━━━━━━━━━━━━━━━━━━━━━━━━━\u001b[0m \u001b[32m32.9/32.9 MB\u001b[0m \u001b[31m49.8 MB/s\u001b[0m eta \u001b[36m0:00:00\u001b[0m\n",
            "\u001b[?25hInstalling collected packages: SpeechRecognition\n",
            "Successfully installed SpeechRecognition-3.14.1\n"
          ]
        }
      ]
    },
    {
      "cell_type": "code",
      "source": [
        "!pip install faiss-cpu\n"
      ],
      "metadata": {
        "colab": {
          "base_uri": "https://localhost:8080/"
        },
        "id": "bZYwB3lb2TLs",
        "outputId": "bbff8922-2e3a-4fb9-ddf7-2a8105207701"
      },
      "execution_count": null,
      "outputs": [
        {
          "output_type": "stream",
          "name": "stdout",
          "text": [
            "Collecting faiss-cpu\n",
            "  Downloading faiss_cpu-1.10.0-cp311-cp311-manylinux_2_28_x86_64.whl.metadata (4.4 kB)\n",
            "Requirement already satisfied: numpy<3.0,>=1.25.0 in /usr/local/lib/python3.11/dist-packages (from faiss-cpu) (1.26.4)\n",
            "Requirement already satisfied: packaging in /usr/local/lib/python3.11/dist-packages (from faiss-cpu) (24.2)\n",
            "Downloading faiss_cpu-1.10.0-cp311-cp311-manylinux_2_28_x86_64.whl (30.7 MB)\n",
            "\u001b[2K   \u001b[90m━━━━━━━━━━━━━━━━━━━━━━━━━━━━━━━━━━━━━━━━\u001b[0m \u001b[32m30.7/30.7 MB\u001b[0m \u001b[31m54.5 MB/s\u001b[0m eta \u001b[36m0:00:00\u001b[0m\n",
            "\u001b[?25hInstalling collected packages: faiss-cpu\n",
            "Successfully installed faiss-cpu-1.10.0\n"
          ]
        }
      ]
    },
    {
      "cell_type": "code",
      "source": [
        "import speech_recognition as sr\n",
        "from transformers import AutoTokenizer, AutoModel\n",
        "import torch\n",
        "import faiss\n",
        "import numpy as np\n",
        "\n",
        "# Speech-to-Text\n",
        "def transcribe_audio(audio_path):\n",
        "    \"\"\"Transcribes audio to text.\"\"\"\n",
        "    r = sr.Recognizer()\n",
        "    with sr.AudioFile(audio_path) as source:\n",
        "        audio_data = r.record(source)\n",
        "        try:\n",
        "            text = r.recognize_google(audio_data)  # Requires internet connection\n",
        "            return text\n",
        "        except sr.UnknownValueError:\n",
        "            return \"Could not understand audio\"\n",
        "        except sr.RequestError as e:\n",
        "            return f\"Could not request results from Google Speech Recognition service; {e}\"\n",
        "\n",
        "# Embedding and Retrieval\n",
        "def create_embeddings(sentences, model_name=\"sentence-transformers/all-mpnet-base-v2\"):\n",
        "    \"\"\"Creates sentence embeddings using a transformer model.\"\"\"\n",
        "    tokenizer = AutoTokenizer.from_pretrained(model_name)\n",
        "    model = AutoModel.from_pretrained(model_name)\n",
        "\n",
        "    encoded_input = tokenizer(sentences, padding=True, truncation=True, return_tensors='pt')\n",
        "\n",
        "    with torch.no_grad():\n",
        "        model_output = model(**encoded_input)\n",
        "    sentence_embeddings = model_output[0][:, 0] #Use the CLS token for embedding.  Mean pooling could also be used\n",
        "\n",
        "    return sentence_embeddings.numpy()\n",
        "\n",
        "\n",
        "def rag_word_classification(text, knowledge_base): #Text will be a sentence from transcription\n",
        "  \"\"\"Classifies words in text related to emotions using RAG.\"\"\"\n",
        "  text_embedding = create_embeddings([text]) #Embed the sentence to classify\n",
        "  knowledge_embeddings = create_embeddings(knowledge_base) #Embed KB\n",
        "\n",
        "  dimension = knowledge_embeddings.shape[1]\n",
        "  index = faiss.IndexFlatL2(dimension) #L2 distance index\n",
        "  index.add(knowledge_embeddings)\n",
        "\n",
        "  k = 3 #Top k matches from KB\n",
        "  distances, indices = index.search(text_embedding, k)\n",
        "\n",
        "  retrieved_terms = [knowledge_base[i] for i in indices[0]]\n",
        "  return retrieved_terms\n",
        "\n",
        "# Example Usage\n",
        "# audio_text = transcribe_audio(\"path/to/your/audio.wav\")\n",
        "# emotion_knowledge_base = [\"happy\", \"joyful\", \"sad\", \"depressed\", \"angry\", \"frustrated\", \"scared\", \"anxious\"]\n",
        "# retrieved_emotions = rag_word_classification(audio_text, emotion_knowledge_base)\n",
        "# print(f\"Retrieved Emotions: {retrieved_emotions}\")"
      ],
      "metadata": {
        "id": "edBQh5kh1x5n"
      },
      "execution_count": null,
      "outputs": []
    },
    {
      "cell_type": "code",
      "source": [
        "import re\n",
        "\n",
        "def count_emotion_words(text, emotion_words):\n",
        "    \"\"\"Counts occurrences of emotion words in text.\"\"\"\n",
        "    word_counts = {}\n",
        "    text = text.lower() #Lower case to make the counting not case sensitive\n",
        "\n",
        "    for word in emotion_words:\n",
        "        word_counts[word] = len(re.findall(r'\\b' + re.escape(word) + r'\\b', text)) #Whole word match using regular expressions\n",
        "\n",
        "    return word_counts\n",
        "\n",
        "# Example usage:\n",
        "# emotion_counts = count_emotion_words(audio_text, retrieved_emotions) #Use retrieved terms in text\n",
        "# print(f\"Emotion word counts: {emotion_counts}\")"
      ],
      "metadata": {
        "id": "6hR2yiFm12Zk"
      },
      "execution_count": null,
      "outputs": []
    },
    {
      "cell_type": "code",
      "source": [
        "def fuse_emotions(facial_emotion, voice_emotion, text_emotions, facial_confidence=0.5, voice_confidence=0.5): #Weights can be adjusted based on performance\n",
        "    \"\"\"Fuses emotion predictions from different modalities.\"\"\"\n",
        "\n",
        "    #Simple weighted average\n",
        "    fused_emotion = {}\n",
        "    total_confidence = facial_confidence + voice_confidence\n",
        "\n",
        "    #Facial\n",
        "    if facial_emotion:\n",
        "      fused_emotion[facial_emotion] = fused_emotion.get(facial_emotion, 0) + facial_confidence\n",
        "\n",
        "    #Voice\n",
        "    if voice_emotion:\n",
        "      fused_emotion[voice_emotion] = fused_emotion.get(voice_emotion, 0) + voice_confidence\n",
        "\n",
        "    #Text based on counts\n",
        "    for emotion, count in text_emotions.items():\n",
        "      fused_emotion[emotion] = fused_emotion.get(emotion, 0) + count * 0.1 #Scale the text contributions down\n",
        "\n",
        "\n",
        "    #Normalize:\n",
        "    for emotion in fused_emotion:\n",
        "      fused_emotion[emotion] /= total_confidence\n",
        "\n",
        "\n",
        "    final_emotion = max(fused_emotion, key=fused_emotion.get) #Find emotion with the highest weighted average confidence\n",
        "    confidence = fused_emotion[final_emotion]\n",
        "\n",
        "    return final_emotion, confidence\n",
        "# Example Usage:\n",
        "# final_emotion, confidence = fuse_emotions(dominant_emotion, audio_emotion, emotion_counts)\n",
        "# print(f\"Final Emotion: {final_emotion}, Confidence: {confidence}\")"
      ],
      "metadata": {
        "id": "I3o4HihF2Z--"
      },
      "execution_count": null,
      "outputs": []
    },
    {
      "cell_type": "code",
      "source": [
        "# Main Function\n",
        "def emotion_detection_pipeline(video_path, audio_path):\n",
        "    \"\"\"Main pipeline for emotion detection.\"\"\"\n",
        "\n",
        "    # 1. Input\n",
        "    video_frame = get_video_frame(video_path)\n",
        "    audio, sample_rate = read_audio(audio_path)\n",
        "\n",
        "    # 2. Facial Expression\n",
        "    dominant_emotion, all_emotions = analyze_facial_expression(video_frame)\n",
        "\n",
        "    # 3. Voice Tone (Assuming you have trained an audio model: audio_model)\n",
        "    audio_emotion, probabilities = analyze_voice_tone(audio, sample_rate, audio_model) #Needs a trained audio model\n",
        "\n",
        "    # 4. RAG-based Word Classification\n",
        "    audio_text = transcribe_audio(audio_path)\n",
        "    emotion_knowledge_base = [\"happy\", \"joyful\", \"sad\", \"depressed\", \"angry\", \"frustrated\", \"scared\", \"anxious\"]  #Expand!\n",
        "    retrieved_emotions = rag_word_classification(audio_text, emotion_knowledge_base)\n",
        "    emotion_counts = count_emotion_words(audio_text, retrieved_emotions)\n",
        "\n",
        "    # 5. Emotion Fusion\n",
        "    final_emotion, confidence = fuse_emotions(dominant_emotion, audio_emotion, emotion_counts)\n",
        "\n",
        "    # 6. Output\n",
        "    print(f\"Final Emotion: {final_emotion}, Confidence: {confidence}\")\n",
        "    print(f\"Emotion Word Counts: {emotion_counts}\")\n",
        "\n",
        "\n",
        "# Example usage\n",
        "# emotion_detection_pipeline(\"path/to/video.mp4\", \"path/to/audio.wav\")"
      ],
      "metadata": {
        "id": "lLHQFd0v2jIi"
      },
      "execution_count": null,
      "outputs": []
    }
  ]
}